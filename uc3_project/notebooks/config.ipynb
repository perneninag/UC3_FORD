{
 "cells": [
  {
   "cell_type": "markdown",
   "metadata": {
    "application/vnd.databricks.v1+cell": {
     "cellMetadata": {},
     "inputWidgets": {},
     "nuid": "707378b7-f9a3-4610-94b1-04c4b661a26f",
     "showTitle": false,
     "tableResultSettingsMap": {},
     "title": ""
    }
   },
   "source": [
    "## Configuration file\n",
    "\n",
    "Please change your catalog and schema here to run the demo on a different catalog.\n",
    "\n",
    "<!-- Collect usage data (view). Remove it to disable collection or disable tracker during installation. View README for more details.  -->\n",
    "<img width=\"1px\" src=\"https://ppxrzfxige.execute-api.us-west-2.amazonaws.com/v1/analytics?category=data-science&org_id=984752964297111&notebook=%2Fconfig&demo_name=llm-rag-chatbot&event=VIEW&path=%2F_dbdemos%2Fdata-science%2Fllm-rag-chatbot%2Fconfig&version=1\">"
   ]
  },
  {
   "cell_type": "code",
   "execution_count": 0,
   "metadata": {
    "application/vnd.databricks.v1+cell": {
     "cellMetadata": {},
     "inputWidgets": {},
     "nuid": "6403b3f0-d0d8-409c-9815-ca9ce77e8011",
     "showTitle": false,
     "tableResultSettingsMap": {},
     "title": ""
    }
   },
   "outputs": [],
   "source": [
    "VECTOR_SEARCH_ENDPOINT_NAME=\"one-env-shared-endpoint-0\"\n",
    "\n",
    "#DATABRICKS_SITEMAP_URL = \"https://docs.databricks.com/en/doc-sitemap.xml\" \n",
    "#DATABRICKS_SITEMAP_URL = \"https://docs.databricks.com/aws/en/sitemap.xml\"\n",
    "DATABRICKS_SITEMAP_URL = \"https://www.ford.com/sitemap.xml\"\n",
    "\n",
    "catalog = \"uc3_prod\"\n",
    "\n",
    "#email = spark.sql('select current_user() as user').collect()[0]['user']\n",
    "#username = email.split('@')[0].replace('.', '_')\n",
    "#dbName = db = f\"dbdemos_rag_{username}\"\n",
    "dbName = db = \"usecase_3_chatbot\""
   ]
  },
  {
   "cell_type": "markdown",
   "metadata": {
    "application/vnd.databricks.v1+cell": {
     "cellMetadata": {},
     "inputWidgets": {},
     "nuid": "f6b14e8f-4959-44f3-9c93-f74f25f5e48a",
     "showTitle": false,
     "tableResultSettingsMap": {},
     "title": ""
    }
   },
   "source": [
    "### License\n",
    "This demo installs the following external libraries on top of DBR(ML):\n",
    "\n",
    "\n",
    "| Library | License |\n",
    "|---------|---------|\n",
    "| langchain     | [MIT](https://github.com/langchain-ai/langchain/blob/master/LICENSE)     |\n",
    "| lxml      | [BSD-3](https://pypi.org/project/lxml/)     |\n",
    "| transformers      | [Apache 2.0](https://github.com/huggingface/transformers/blob/main/LICENSE)     |\n",
    "| unstructured      | [Apache 2.0](https://github.com/Unstructured-IO/unstructured/blob/main/LICENSE.md)     |\n",
    "| llama-index      | [MIT](https://github.com/run-llama/llama_index/blob/main/LICENSE)     |\n",
    "| tesseract      | [Apache 2.0](https://github.com/tesseract-ocr/tesseract/blob/main/LICENSE)     |\n",
    "| poppler-utils      | [MIT](https://github.com/skmetaly/poppler-utils/blob/master/LICENSE)     |\n",
    "| textstat      | [MIT](https://pypi.org/project/textstat/)     |\n",
    "| tiktoken      | [MIT](https://github.com/openai/tiktoken/blob/main/LICENSE)     |\n",
    "| evaluate      | [Apache2](https://pypi.org/project/evaluate/)     |\n",
    "| torch      | [BDS-3](https://github.com/intel/torch/blob/master/LICENSE.md)     |\n",
    "| tiktoken      | [MIT](https://github.com/openai/tiktoken/blob/main/LICENSE)     |\n",
    "\n",
    "\n",
    "\n"
   ]
  }
 ],
 "metadata": {
  "application/vnd.databricks.v1+notebook": {
   "computePreferences": null,
   "dashboards": [],
   "environmentMetadata": {
    "environment_version": "2"
   },
   "inputWidgetPreferences": null,
   "language": "python",
   "notebookMetadata": {
    "pythonIndentUnit": 2
   },
   "notebookName": "config",
   "widgets": {}
  },
  "language_info": {
   "name": "python"
  }
 },
 "nbformat": 4,
 "nbformat_minor": 0
}